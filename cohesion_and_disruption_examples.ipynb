{
 "cells": [
  {
   "cell_type": "code",
   "execution_count": 88,
   "id": "e8d05df5-3e71-4d00-a129-fcc5bba507ba",
   "metadata": {
    "tags": []
   },
   "outputs": [],
   "source": [
    "import networkx as nx\n",
    "import pandas as pd\n",
    "import pickle\n",
    "\n",
    "from disruption_targeting_analysis_functions import *"
   ]
  },
  {
   "cell_type": "markdown",
   "id": "a53e4cb1-7b65-4fb3-8e74-d14d632eddc5",
   "metadata": {},
   "source": [
    "# Loading synthetic network datasets"
   ]
  },
  {
   "cell_type": "code",
   "execution_count": 29,
   "id": "afb26435-8d7d-4e13-8f76-13b5452d5ca0",
   "metadata": {
    "tags": []
   },
   "outputs": [],
   "source": [
    "# Loading network data\n",
    "\n",
    "data1 = pd.read_csv('data/synth_net_1.csv', index_col = 0)\n",
    "\n",
    "data2 = pd.read_csv('data/synth_net_2.csv', index_col = 0)\n",
    "\n",
    "# Creating networks\n",
    "\n",
    "net1 = nx.from_pandas_adjacency(data1)\n",
    "\n",
    "net2 = nx.from_pandas_adjacency(data2)\n",
    "\n",
    "# Removing isolates\n",
    "\n",
    "net1_isolates = list(nx.isolates(net1))\n",
    "\n",
    "net2_isolates = list(nx.isolates(net2))\n",
    "\n",
    "net1.remove_nodes_from(net1_isolates)\n",
    "\n",
    "net2.remove_nodes_from(net2_isolates)"
   ]
  },
  {
   "cell_type": "markdown",
   "id": "37c6bfc2-00bc-47b7-9ae5-f13f5f976431",
   "metadata": {
    "tags": []
   },
   "source": [
    "# Cohesion analyses"
   ]
  },
  {
   "cell_type": "code",
   "execution_count": 75,
   "id": "c952069e-e7fc-4785-9eee-98a3c291e55b",
   "metadata": {
    "tags": []
   },
   "outputs": [
    {
     "name": "stdout",
     "output_type": "stream",
     "text": [
      "Cohesion analysis test result: True\n"
     ]
    }
   ],
   "source": [
    "# Native cohesion analysis for net1\n",
    "\n",
    "net1_native_cohesion = native_network_cohesion(net1, path_length = 2, set_size = 2)\n",
    "\n",
    "# Proxy cohesion analysis using each of the 5 supported targeting criteria - net2 as targeting network, net1 as cohesion network\n",
    "\n",
    "net1_proxy_cohesion_dc = proxy_network_cohesion(net2, net1, nx.degree_centrality, path_length = 2, set_size = 2)\n",
    "net1_proxy_cohesion_bc = proxy_network_cohesion(net2, net1, nx.betweenness_centrality, path_length = 2, set_size = 2)\n",
    "net1_proxy_cohesion_cc = proxy_network_cohesion(net2, net1, nx.closeness_centrality, path_length = 2, set_size = 2)\n",
    "net1_proxy_cohesion_ec = proxy_network_cohesion(net2, net1, nx.eigenvector_centrality, path_length = 2, set_size = 2)\n",
    "net1_proxy_cohesion_apc = proxy_network_cohesion(net2, net1, alternative_path_centrality, path_length = 2, set_size = 2)\n",
    "\n",
    "# Aggregating results\n",
    "\n",
    "net1_cohesion_series = pd.Series(data = {'Native' : net1_native_cohesion,\n",
    "                                         'DC' : net1_proxy_cohesion_dc,\n",
    "                                         'BC' : net1_proxy_cohesion_bc,\n",
    "                                         'CC' : net1_proxy_cohesion_cc,\n",
    "                                         'EC' : net1_proxy_cohesion_ec,\n",
    "                                         'APC' : net1_proxy_cohesion_apc}, \n",
    "                                 name = 'Cohesion')\n",
    "\n",
    "# Comparing to test results\n",
    "\n",
    "net1_cohesion_test_results = pd.read_csv('test_results/net1_cohesion_series.csv', index_col = 0)['0']\n",
    "\n",
    "net1_cohesion_test_results.name = 'Cohesion'\n",
    "\n",
    "net1_cohesion_testscore = net1_cohesion_series.equals(net1_cohesion_test_results)\n",
    "\n",
    "print(f'Cohesion analysis test result: {net1_cohesion_testscore}')"
   ]
  },
  {
   "cell_type": "markdown",
   "id": "53d9047c-fee3-4273-a413-fd83db584552",
   "metadata": {},
   "source": [
    "# Native disruption analyses"
   ]
  },
  {
   "cell_type": "code",
   "execution_count": 108,
   "id": "06b83a83-3225-4390-b90a-a6d1e0cf03cb",
   "metadata": {
    "tags": []
   },
   "outputs": [
    {
     "name": "stdout",
     "output_type": "stream",
     "text": [
      "Native disrpution analysis (BC targeting) test result: True\n",
      "Native disrpution analysis (APC targeting) test result: True\n"
     ]
    }
   ],
   "source": [
    "# Setup\n",
    "\n",
    "net1_native_disruption_removal_count = 15\n",
    "\n",
    "net1_native_disruption_seed_list = [i for i in range(1,6)]\n",
    "\n",
    "# Native disrpution analysis for net1 using each of the 4 supported performance metrics\n",
    "    # Using betweenness centrality and alternative path centrality as examples\n",
    "\n",
    "    # Betweenness centrality as targeting metric\n",
    "    \n",
    "net1_native_disruption_bc = native_network_disruption(net1, nx.betweenness_centrality, net1_native_disruption_removal_count, net1_native_disruption_seed_list)\n",
    "\n",
    "    # Alternative path centrality as targeting metric\n",
    "\n",
    "net1_native_disruption_apc = apc_native_network_disruption(net1, net1_native_disruption_removal_count, net1_native_disruption_seed_list)\n",
    "\n",
    "# Comparing to test results\n",
    "\n",
    "with open('test_results/net1_native_disruption_bc_pickle.pkl', 'rb') as handle:\n",
    "    net1_native_disruption_bc_test_results = pickle.load(handle)\n",
    "\n",
    "net1_native_disruption_bc_testscore = (net1_native_disruption_bc == net1_native_disruption_bc_test_results)\n",
    "\n",
    "with open('test_results/net1_native_disruption_apc_pickle.pkl', 'rb') as handle:\n",
    "    net1_native_disruption_apc_test_results = pickle.load(handle)\n",
    "    \n",
    "net1_native_disruption_apc_testscore = (net1_native_disruption_apc == net1_native_disruption_apc_test_results)\n",
    "\n",
    "print(f'Native disrpution analysis (BC targeting) test result: {net1_native_disruption_bc_testscore}')\n",
    "print(f'Native disrpution analysis (APC targeting) test result: {net1_native_disruption_apc_testscore}')"
   ]
  },
  {
   "cell_type": "markdown",
   "id": "1e14565c-3cc3-43a7-ac57-15642a11ce7d",
   "metadata": {},
   "source": [
    "# Proxy disruption analyses"
   ]
  },
  {
   "cell_type": "code",
   "execution_count": 129,
   "id": "c5dc6c6c-b563-46d5-8194-e4ddb6434c18",
   "metadata": {
    "tags": []
   },
   "outputs": [
    {
     "name": "stdout",
     "output_type": "stream",
     "text": [
      "Proxy disrpution analysis (BC targeting) test result: True\n",
      "Proxy disrpution analysis (APC targeting) test result: True\n"
     ]
    }
   ],
   "source": [
    "# Setup\n",
    "\n",
    "net1_proxy_disruption_removal_count = 15\n",
    "\n",
    "net1_proxy_disruption_seed_list = [i for i in range(1,6)]\n",
    "\n",
    "# Proxy disruption analysis - net2 as targeting network, net1 as disruption network\n",
    "    # Using betweenness centrality and alternative path centrality as examples\n",
    "\n",
    "    # Betweenness centrality as targeting metric\n",
    "    \n",
    "net1_proxy_disruption_bc = proxy_network_disruption(net2, net1, nx.betweenness_centrality, net1_proxy_disruption_removal_count, net1_proxy_disruption_seed_list)\n",
    "\n",
    "    # Alternative path centrality as targeting metric\n",
    "\n",
    "net1_proxy_disruption_apc = apc_proxy_network_disruption(net2, net1, net1_proxy_disruption_removal_count, net1_proxy_disruption_seed_list)\n",
    "\n",
    "# Comparing to test results\n",
    "\n",
    "with open('test_results/net1_proxy_disruption_bc_pickle.pkl', 'rb') as handle:\n",
    "    net1_proxy_disruption_bc_test_results = pickle.load(handle)\n",
    "\n",
    "net1_proxy_disruption_bc_testscore = (net1_proxy_disruption_bc == net1_proxy_disruption_bc_test_results)\n",
    "\n",
    "with open('test_results/net1_proxy_disruption_apc_pickle.pkl', 'rb') as handle:\n",
    "    net1_proxy_disruption_apc_test_results = pickle.load(handle)\n",
    "    \n",
    "net1_proxy_disruption_apc_testscore = (net1_proxy_disruption_apc == net1_proxy_disruption_apc_test_results)\n",
    "\n",
    "print(f'Proxy disrpution analysis (BC targeting) test result: {net1_proxy_disruption_bc_testscore}')\n",
    "print(f'Proxy disrpution analysis (APC targeting) test result: {net1_proxy_disruption_apc_testscore}')"
   ]
  }
 ],
 "metadata": {
  "kernelspec": {
   "display_name": "Python 3 (ipykernel)",
   "language": "python",
   "name": "python3"
  },
  "language_info": {
   "codemirror_mode": {
    "name": "ipython",
    "version": 3
   },
   "file_extension": ".py",
   "mimetype": "text/x-python",
   "name": "python",
   "nbconvert_exporter": "python",
   "pygments_lexer": "ipython3",
   "version": "3.11.5"
  }
 },
 "nbformat": 4,
 "nbformat_minor": 5
}
